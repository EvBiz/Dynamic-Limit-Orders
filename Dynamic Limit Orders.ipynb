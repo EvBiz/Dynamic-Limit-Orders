{
 "cells": [
  {
   "cell_type": "markdown",
   "id": "bb15636f-75fa-4650-b90c-585b246cbee0",
   "metadata": {},
   "source": [
    "# Dynamic Limit Orders"
   ]
  },
  {
   "cell_type": "code",
   "execution_count": 4,
   "id": "e7cec525-82b0-4f16-8d83-f0ba85a6a96e",
   "metadata": {},
   "outputs": [],
   "source": [
    "import pandas as pd\n",
    "import numpy as np\n",
    "import matplotlib.pyplot as plt\n",
    "%matplotlib inline\n",
    "import yfinance as yf\n",
    "from ib_insync import *\n",
    "import nest_asyncio\n",
    "import logging\n",
    "import datetime\n",
    "import schedule\n",
    "import time\n",
    "import threading"
   ]
  },
  {
   "cell_type": "code",
   "execution_count": null,
   "id": "dd1e6d4d-b277-497d-8001-46bb88d10de0",
   "metadata": {},
   "outputs": [],
   "source": [
    "nest_asyncio.apply()\n",
    "\n",
    "# Connect to TWS (or gateway)\n",
    "ib = IB()\n",
    "\n",
    "ib.connect('127.0.0.1', 7497, clientId=1111) #7497 - Paper Trading, 7496 - Live trading"
   ]
  },
  {
   "cell_type": "code",
   "execution_count": 18,
   "id": "d4e9d58b-dd26-4fc6-baeb-a7eb684bbd28",
   "metadata": {},
   "outputs": [
    {
     "data": {
      "text/plain": [
       "[Future(conId=620731015, symbol='ES', lastTradeDateOrContractMonth='20250620', multiplier='50', exchange='CME', currency='USD', localSymbol='ESM5', tradingClass='ES')]"
      ]
     },
     "execution_count": 18,
     "metadata": {},
     "output_type": "execute_result"
    }
   ],
   "source": [
    "#Define ES contract\n",
    "contract = Future('ES', '202506', 'CME')\n",
    "\n",
    "# Or for stocks:\n",
    "#contract = Stock('TSLA', 'SMART', 'USD')\n",
    "\n",
    "# Qualify the contract (ensures IB recognizes it)\n",
    "ib.qualifyContracts(contract)"
   ]
  },
  {
   "cell_type": "code",
   "execution_count": 20,
   "id": "3f1f0d65-aba4-4b69-9042-4129b54a0eb6",
   "metadata": {},
   "outputs": [],
   "source": [
    "quote = ib.reqMktData(contract, \"\", False, False)"
   ]
  },
  {
   "cell_type": "code",
   "execution_count": null,
   "id": "ec31d10d-7987-41c1-83c7-6897afa1031f",
   "metadata": {},
   "outputs": [],
   "source": [
    "# Global variable to track position\n",
    "position_size = 0\n",
    "\n",
    "# Define a function to handle position updates\n",
    "def update_position(account, contract, pos, avgCost):\n",
    "    global position_size\n",
    "    # Check if this is the contract we're trading (adjust comparison as needed)\n",
    "    if contract.symbol == \"ES\":  # Replace with your contract's symbol\n",
    "        position_size = pos\n",
    "        print(f\"Position updated: {position_size}\")\n",
    "\n",
    "# Assign the callback to the wrapper\n",
    "ib.wrapper.position = update_position\n",
    "\n",
    "my_bid = quote.bid - 1.00\n",
    "order = LimitOrder(\"BUY\", 1, my_bid)\n",
    "ib.placeOrder(contract, order)\n",
    "\n",
    "# Request position updates\n",
    "ib.reqPositions()\n",
    "\n",
    "# Start the IB event loop in a separate thread\n",
    "threading.Thread(target=ib.run, daemon=True).start()\n",
    "\n",
    "# Loop every 1 sec\n",
    "while True:\n",
    "    ib.sleep(0.5)\n",
    "    \n",
    "    if position_size == 0:  # Only proceed if no position\n",
    "        # If best bid > my bid, cancel & update my bid\n",
    "        if quote.bid > my_bid:\n",
    "            new_bid = quote.bid - 0.25\n",
    "            new_order = LimitOrder(\"BUY\", 1, new_bid)\n",
    "         \n",
    "            # Cancel the old order and place the new order\n",
    "            ib.cancelOrder(order)\n",
    "            ib.placeOrder(contract, new_order)\n",
    "            print(\"Cancelled order/placed new order:\", new_bid)\n",
    "            \n",
    "            # Update the current bid and order for subsequent iterations\n",
    "            my_bid = new_bid\n",
    "            order = new_order\n",
    "        else:\n",
    "            print(\"Quote.bid not > my_bid.\")\n",
    "    else:\n",
    "        print(\"Position already held, skipping order placement.\")"
   ]
  },
  {
   "cell_type": "code",
   "execution_count": null,
   "id": "4ae64de0-f99c-41e0-a9d2-0aba3e6471f6",
   "metadata": {},
   "outputs": [],
   "source": []
  }
 ],
 "metadata": {
  "kernelspec": {
   "display_name": "Python [conda env:base] *",
   "language": "python",
   "name": "conda-base-py"
  },
  "language_info": {
   "codemirror_mode": {
    "name": "ipython",
    "version": 3
   },
   "file_extension": ".py",
   "mimetype": "text/x-python",
   "name": "python",
   "nbconvert_exporter": "python",
   "pygments_lexer": "ipython3",
   "version": "3.12.7"
  }
 },
 "nbformat": 4,
 "nbformat_minor": 5
}
