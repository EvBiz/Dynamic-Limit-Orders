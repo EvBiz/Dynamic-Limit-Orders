{
 "cells": [
  {
   "cell_type": "markdown",
   "id": "bb15636f-75fa-4650-b90c-585b246cbee0",
   "metadata": {},
   "source": [
    "# Dynamic Limit Orders"
   ]
  },
  {
   "cell_type": "code",
   "execution_count": 1,
   "id": "e7cec525-82b0-4f16-8d83-f0ba85a6a96e",
   "metadata": {},
   "outputs": [],
   "source": [
    "import pandas as pd\n",
    "import numpy as np\n",
    "import matplotlib.pyplot as plt\n",
    "%matplotlib inline\n",
    "import yfinance as yf\n",
    "from ib_insync import *\n",
    "import nest_asyncio\n",
    "import logging\n",
    "import datetime\n",
    "import schedule\n",
    "import time\n",
    "import threading"
   ]
  },
  {
   "cell_type": "code",
   "execution_count": 3,
   "id": "dd1e6d4d-b277-497d-8001-46bb88d10de0",
   "metadata": {},
   "outputs": [
    {
     "data": {
      "text/plain": [
       "<IB connected to 127.0.0.1:7496 clientId=1111>"
      ]
     },
     "execution_count": 3,
     "metadata": {},
     "output_type": "execute_result"
    }
   ],
   "source": [
    "nest_asyncio.apply()\n",
    "\n",
    "# Connect to TWS (or gateway)\n",
    "ib = IB()\n",
    "\n",
    "ib.connect('127.0.0.1', 7496, clientId=1111) #7497 - Paper Trading, 7496 - Live trading"
   ]
  },
  {
   "cell_type": "code",
   "execution_count": 5,
   "id": "d4e9d58b-dd26-4fc6-baeb-a7eb684bbd28",
   "metadata": {},
   "outputs": [
    {
     "data": {
      "text/plain": [
       "[Future(conId=565301279, symbol='KC', lastTradeDateOrContractMonth='20250519', multiplier='37500', exchange='NYBOT', currency='USD', localSymbol='KCK5', tradingClass='KC')]"
      ]
     },
     "execution_count": 5,
     "metadata": {},
     "output_type": "execute_result"
    }
   ],
   "source": [
    "#Define ES contract\n",
    "#contract = Future('ES', '202506', 'CME')\n",
    "#contract = Future('DA', '202505', 'CME')\n",
    "contract = Future('KC', '202505', 'NYBOT')\n",
    "#contract = Future('SB', '202505', 'NYBOT')\n",
    "#contract = Future('LE', '202506', 'CME')\n",
    "# Or for stocks:\n",
    "#contract = Stock('TSLA', 'SMART', 'USD')\n",
    "\n",
    "# Qualify the contract (ensures IB recognizes it)\n",
    "ib.qualifyContracts(contract)"
   ]
  },
  {
   "cell_type": "code",
   "execution_count": 7,
   "id": "3f1f0d65-aba4-4b69-9042-4129b54a0eb6",
   "metadata": {},
   "outputs": [],
   "source": [
    "quote = ib.reqMktData(contract, \"\", False, False)\n",
    "depth = ib.reqMktDepth(contract, numRows=3)"
   ]
  },
  {
   "cell_type": "code",
   "execution_count": 9,
   "id": "0241f670-d922-4656-86dd-aac02bbf9e79",
   "metadata": {},
   "outputs": [
    {
     "name": "stdout",
     "output_type": "stream",
     "text": [
      "0.05\n"
     ]
    }
   ],
   "source": [
    "first_bid = depth.domBids[0].price\n",
    "second_bid = depth.domBids[1].price\n",
    "bid_difference = round(first_bid - second_bid,4)\n",
    "print(bid_difference)"
   ]
  },
  {
   "cell_type": "markdown",
   "id": "28130a72-68c3-4424-9a33-6093fd5e5a52",
   "metadata": {},
   "source": [
    "## Market Depth Version:"
   ]
  },
  {
   "cell_type": "code",
   "execution_count": 41,
   "id": "d2101814-7a32-48da-9306-da77e8ea613b",
   "metadata": {},
   "outputs": [
    {
     "name": "stdout",
     "output_type": "stream",
     "text": [
      "Bid difference: 0.03\n",
      "Cancelled/placed order (lowered): 195.8\n",
      "Bid difference: 0.03\n",
      "Cancelled/placed order (lowered): 195.8\n",
      "Bid difference: 0.03\n",
      "Cancelled/placed order (lowered): 195.8\n",
      "Bid difference: 0.03\n",
      "Cancelled/placed order (lowered): 195.8\n",
      "Bid difference: 0.03\n",
      "Cancelled/placed order (lowered): 195.8\n",
      "Bid difference: 0.03\n",
      "Cancelled/placed order (lowered): 195.8\n",
      "Bid difference: 0.03\n",
      "Cancelled/placed order (lowered): 195.8\n",
      "Position held, skipping order placement.\n"
     ]
    }
   ],
   "source": [
    "min_tick_size = 0.025 # add instrument tick size\n",
    "\n",
    "# Global variable to track position\n",
    "position_size = 0\n",
    "\n",
    "# Define a function to handle position updates\n",
    "def update_position(account, contract, pos, avgCost):\n",
    "    global position_size\n",
    "    # Check if this is the contract we're trading (adjust comparison as needed)\n",
    "    if contract.symbol == \"KC\":  # Replace with your contract's symbol\n",
    "        position_size = pos\n",
    "        print(f\"Position updated: {position_size}\")\n",
    "\n",
    "# Assign the callback to the wrapper\n",
    "ib.wrapper.position = update_position\n",
    "\n",
    "my_bid = quote.bid + min_tick_size\n",
    "order = LimitOrder(\"BUY\", 1, my_bid)\n",
    "ib.placeOrder(contract, order)\n",
    "\n",
    "# Request position updates\n",
    "ib.reqPositions()\n",
    "\n",
    "# Start the IB event loop in a separate thread\n",
    "threading.Thread(target=ib.run, daemon=True).start()\n",
    "\n",
    "# Loop every 1 sec\n",
    "while True:\n",
    "    ib.sleep(0.35)\n",
    "    \n",
    "    if position_size == 0:  # Only proceed if no position\n",
    "        # Get the second bid from the order book\n",
    "        first_bid = depth.domBids[0].price\n",
    "        second_bid = depth.domBids[1].price\n",
    "        bid_difference = round(my_bid - second_bid, 2)\n",
    "        print(f\"Bid difference: {bid_difference}\")\n",
    "\n",
    "        # Case 1: Market best bid exceeds my bid, raise my bid\n",
    "        if quote.bid > my_bid:\n",
    "            new_bid = quote.bid + min_tick_size\n",
    "            new_order = LimitOrder(\"BUY\", 1, new_bid)\n",
    "            ib.cancelOrder(order)\n",
    "            ib.placeOrder(contract, new_order)\n",
    "            print(f\"Cancelled/placed order (raised): {new_bid}\")\n",
    "            my_bid = new_bid\n",
    "            order = new_order\n",
    "\n",
    "        # Case 2: Second bid is more than 1 tick below my bid, lower my bid\n",
    "        elif bid_difference > min_tick_size:\n",
    "            new_bid = second_bid + min_tick_size\n",
    "            new_order = LimitOrder(\"BUY\", 1, new_bid)\n",
    "            ib.cancelOrder(order)\n",
    "            ib.placeOrder(contract, new_order)\n",
    "            print(f\"Cancelled/placed order (lowered): {new_bid}\")\n",
    "            my_bid = new_bid\n",
    "            order = new_order\n",
    "\n",
    "        else:\n",
    "            print(\"No adjustment needed.\")\n",
    "    else:\n",
    "        print(\"Position held, skipping order placement.\")\n",
    "        break # Position = 1, stop looping"
   ]
  },
  {
   "cell_type": "code",
   "execution_count": 15,
   "id": "ec31d10d-7987-41c1-83c7-6897afa1031f",
   "metadata": {},
   "outputs": [
    {
     "name": "stdout",
     "output_type": "stream",
     "text": [
      "Position already held, skipping order placement.\n",
      "Position already held, skipping order placement.\n",
      "Position already held, skipping order placement.\n",
      "Position already held, skipping order placement.\n",
      "Position already held, skipping order placement.\n",
      "Position already held, skipping order placement.\n",
      "Position already held, skipping order placement.\n"
     ]
    },
    {
     "ename": "KeyboardInterrupt",
     "evalue": "",
     "output_type": "error",
     "traceback": [
      "\u001b[1;31m---------------------------------------------------------------------------\u001b[0m",
      "\u001b[1;31mKeyboardInterrupt\u001b[0m                         Traceback (most recent call last)",
      "Cell \u001b[1;32mIn[15], line 27\u001b[0m\n\u001b[0;32m     25\u001b[0m \u001b[38;5;66;03m# Loop every 1 sec\u001b[39;00m\n\u001b[0;32m     26\u001b[0m \u001b[38;5;28;01mwhile\u001b[39;00m \u001b[38;5;28;01mTrue\u001b[39;00m:\n\u001b[1;32m---> 27\u001b[0m     ib\u001b[38;5;241m.\u001b[39msleep(\u001b[38;5;241m0.35\u001b[39m)\n\u001b[0;32m     29\u001b[0m     \u001b[38;5;28;01mif\u001b[39;00m position_size \u001b[38;5;241m==\u001b[39m \u001b[38;5;241m0\u001b[39m:  \u001b[38;5;66;03m# Only proceed if no position\u001b[39;00m\n\u001b[0;32m     30\u001b[0m         \u001b[38;5;66;03m# If best bid > my bid, cancel & update my bid\u001b[39;00m\n\u001b[0;32m     31\u001b[0m         \u001b[38;5;28;01mif\u001b[39;00m quote\u001b[38;5;241m.\u001b[39mbid \u001b[38;5;241m>\u001b[39m my_bid:\n",
      "File \u001b[1;32m~\\anaconda3\\Lib\\site-packages\\ib_insync\\util.py:386\u001b[0m, in \u001b[0;36msleep\u001b[1;34m(secs)\u001b[0m\n\u001b[0;32m    378\u001b[0m \u001b[38;5;28;01mdef\u001b[39;00m \u001b[38;5;21msleep\u001b[39m(secs: \u001b[38;5;28mfloat\u001b[39m \u001b[38;5;241m=\u001b[39m \u001b[38;5;241m0.02\u001b[39m) \u001b[38;5;241m-\u001b[39m\u001b[38;5;241m>\u001b[39m \u001b[38;5;28mbool\u001b[39m:\n\u001b[0;32m    379\u001b[0m \u001b[38;5;250m    \u001b[39m\u001b[38;5;124;03m\"\"\"\u001b[39;00m\n\u001b[0;32m    380\u001b[0m \u001b[38;5;124;03m    Wait for the given amount of seconds while everything still keeps\u001b[39;00m\n\u001b[0;32m    381\u001b[0m \u001b[38;5;124;03m    processing in the background. Never use time.sleep().\u001b[39;00m\n\u001b[1;32m   (...)\u001b[0m\n\u001b[0;32m    384\u001b[0m \u001b[38;5;124;03m        secs (float): Time in seconds to wait.\u001b[39;00m\n\u001b[0;32m    385\u001b[0m \u001b[38;5;124;03m    \"\"\"\u001b[39;00m\n\u001b[1;32m--> 386\u001b[0m     run(asyncio\u001b[38;5;241m.\u001b[39msleep(secs))\n\u001b[0;32m    387\u001b[0m     \u001b[38;5;28;01mreturn\u001b[39;00m \u001b[38;5;28;01mTrue\u001b[39;00m\n",
      "File \u001b[1;32m~\\anaconda3\\Lib\\site-packages\\ib_insync\\util.py:341\u001b[0m, in \u001b[0;36mrun\u001b[1;34m(timeout, *awaitables)\u001b[0m\n\u001b[0;32m    339\u001b[0m globalErrorEvent\u001b[38;5;241m.\u001b[39mconnect(onError)\n\u001b[0;32m    340\u001b[0m \u001b[38;5;28;01mtry\u001b[39;00m:\n\u001b[1;32m--> 341\u001b[0m     result \u001b[38;5;241m=\u001b[39m loop\u001b[38;5;241m.\u001b[39mrun_until_complete(task)\n\u001b[0;32m    342\u001b[0m \u001b[38;5;28;01mexcept\u001b[39;00m asyncio\u001b[38;5;241m.\u001b[39mCancelledError \u001b[38;5;28;01mas\u001b[39;00m e:\n\u001b[0;32m    343\u001b[0m     \u001b[38;5;28;01mraise\u001b[39;00m globalErrorEvent\u001b[38;5;241m.\u001b[39mvalue() \u001b[38;5;129;01mor\u001b[39;00m e\n",
      "File \u001b[1;32m~\\anaconda3\\Lib\\site-packages\\nest_asyncio.py:92\u001b[0m, in \u001b[0;36m_patch_loop.<locals>.run_until_complete\u001b[1;34m(self, future)\u001b[0m\n\u001b[0;32m     90\u001b[0m     f\u001b[38;5;241m.\u001b[39m_log_destroy_pending \u001b[38;5;241m=\u001b[39m \u001b[38;5;28;01mFalse\u001b[39;00m\n\u001b[0;32m     91\u001b[0m \u001b[38;5;28;01mwhile\u001b[39;00m \u001b[38;5;129;01mnot\u001b[39;00m f\u001b[38;5;241m.\u001b[39mdone():\n\u001b[1;32m---> 92\u001b[0m     \u001b[38;5;28mself\u001b[39m\u001b[38;5;241m.\u001b[39m_run_once()\n\u001b[0;32m     93\u001b[0m     \u001b[38;5;28;01mif\u001b[39;00m \u001b[38;5;28mself\u001b[39m\u001b[38;5;241m.\u001b[39m_stopping:\n\u001b[0;32m     94\u001b[0m         \u001b[38;5;28;01mbreak\u001b[39;00m\n",
      "File \u001b[1;32m~\\anaconda3\\Lib\\site-packages\\nest_asyncio.py:115\u001b[0m, in \u001b[0;36m_patch_loop.<locals>._run_once\u001b[1;34m(self)\u001b[0m\n\u001b[0;32m    108\u001b[0m     heappop(scheduled)\n\u001b[0;32m    110\u001b[0m timeout \u001b[38;5;241m=\u001b[39m (\n\u001b[0;32m    111\u001b[0m     \u001b[38;5;241m0\u001b[39m \u001b[38;5;28;01mif\u001b[39;00m ready \u001b[38;5;129;01mor\u001b[39;00m \u001b[38;5;28mself\u001b[39m\u001b[38;5;241m.\u001b[39m_stopping\n\u001b[0;32m    112\u001b[0m     \u001b[38;5;28;01melse\u001b[39;00m \u001b[38;5;28mmin\u001b[39m(\u001b[38;5;28mmax\u001b[39m(\n\u001b[0;32m    113\u001b[0m         scheduled[\u001b[38;5;241m0\u001b[39m]\u001b[38;5;241m.\u001b[39m_when \u001b[38;5;241m-\u001b[39m \u001b[38;5;28mself\u001b[39m\u001b[38;5;241m.\u001b[39mtime(), \u001b[38;5;241m0\u001b[39m), \u001b[38;5;241m86400\u001b[39m) \u001b[38;5;28;01mif\u001b[39;00m scheduled\n\u001b[0;32m    114\u001b[0m     \u001b[38;5;28;01melse\u001b[39;00m \u001b[38;5;28;01mNone\u001b[39;00m)\n\u001b[1;32m--> 115\u001b[0m event_list \u001b[38;5;241m=\u001b[39m \u001b[38;5;28mself\u001b[39m\u001b[38;5;241m.\u001b[39m_selector\u001b[38;5;241m.\u001b[39mselect(timeout)\n\u001b[0;32m    116\u001b[0m \u001b[38;5;28mself\u001b[39m\u001b[38;5;241m.\u001b[39m_process_events(event_list)\n\u001b[0;32m    118\u001b[0m end_time \u001b[38;5;241m=\u001b[39m \u001b[38;5;28mself\u001b[39m\u001b[38;5;241m.\u001b[39mtime() \u001b[38;5;241m+\u001b[39m \u001b[38;5;28mself\u001b[39m\u001b[38;5;241m.\u001b[39m_clock_resolution\n",
      "File \u001b[1;32m~\\anaconda3\\Lib\\selectors.py:323\u001b[0m, in \u001b[0;36mSelectSelector.select\u001b[1;34m(self, timeout)\u001b[0m\n\u001b[0;32m    321\u001b[0m ready \u001b[38;5;241m=\u001b[39m []\n\u001b[0;32m    322\u001b[0m \u001b[38;5;28;01mtry\u001b[39;00m:\n\u001b[1;32m--> 323\u001b[0m     r, w, _ \u001b[38;5;241m=\u001b[39m \u001b[38;5;28mself\u001b[39m\u001b[38;5;241m.\u001b[39m_select(\u001b[38;5;28mself\u001b[39m\u001b[38;5;241m.\u001b[39m_readers, \u001b[38;5;28mself\u001b[39m\u001b[38;5;241m.\u001b[39m_writers, [], timeout)\n\u001b[0;32m    324\u001b[0m \u001b[38;5;28;01mexcept\u001b[39;00m \u001b[38;5;167;01mInterruptedError\u001b[39;00m:\n\u001b[0;32m    325\u001b[0m     \u001b[38;5;28;01mreturn\u001b[39;00m ready\n",
      "File \u001b[1;32m~\\anaconda3\\Lib\\selectors.py:314\u001b[0m, in \u001b[0;36mSelectSelector._select\u001b[1;34m(self, r, w, _, timeout)\u001b[0m\n\u001b[0;32m    313\u001b[0m \u001b[38;5;28;01mdef\u001b[39;00m \u001b[38;5;21m_select\u001b[39m(\u001b[38;5;28mself\u001b[39m, r, w, _, timeout\u001b[38;5;241m=\u001b[39m\u001b[38;5;28;01mNone\u001b[39;00m):\n\u001b[1;32m--> 314\u001b[0m     r, w, x \u001b[38;5;241m=\u001b[39m select\u001b[38;5;241m.\u001b[39mselect(r, w, w, timeout)\n\u001b[0;32m    315\u001b[0m     \u001b[38;5;28;01mreturn\u001b[39;00m r, w \u001b[38;5;241m+\u001b[39m x, []\n",
      "\u001b[1;31mKeyboardInterrupt\u001b[0m: "
     ]
    }
   ],
   "source": [
    "# Global variable to track position\n",
    "position_size = 0\n",
    "\n",
    "# Define a function to handle position updates\n",
    "def update_position(account, contract, pos, avgCost):\n",
    "    global position_size\n",
    "    # Check if this is the contract we're trading (adjust comparison as needed)\n",
    "    if contract.symbol == \"ES\":  # Replace with your contract's symbol\n",
    "        position_size = pos\n",
    "        print(f\"Position updated: {position_size}\")\n",
    "\n",
    "# Assign the callback to the wrapper\n",
    "ib.wrapper.position = update_position\n",
    "\n",
    "my_bid = quote.bid - 0.75\n",
    "order = LimitOrder(\"BUY\", 1, my_bid)\n",
    "ib.placeOrder(contract, order)\n",
    "\n",
    "# Request position updates\n",
    "ib.reqPositions()\n",
    "\n",
    "# Start the IB event loop in a separate thread\n",
    "threading.Thread(target=ib.run, daemon=True).start()\n",
    "\n",
    "# Loop every 1 sec\n",
    "while True:\n",
    "    ib.sleep(0.35)\n",
    "\n",
    "    if position_size == 0:  # Only proceed if no position\n",
    "        # If best bid > my bid, cancel & update my bid\n",
    "        if quote.bid > my_bid:\n",
    "            new_bid = quote.bid - 0.75\n",
    "            new_order = LimitOrder(\"BUY\", 1, new_bid)\n",
    "         \n",
    "            # Cancel the old order and place the new order\n",
    "            ib.cancelOrder(order)\n",
    "            ib.placeOrder(contract, new_order)\n",
    "            print(\"Cancelled order/placed new order:\", new_bid)\n",
    "            \n",
    "            # Update the current bid and order for subsequent iterations \n",
    "            my_bid = new_bid\n",
    "            order = new_order\n",
    "        else:\n",
    "            print(\"Quote.bid not > my_bid.\")\n",
    "    else:\n",
    "        print(\"Position already held, skipping order placement.\")"
   ]
  },
  {
   "cell_type": "code",
   "execution_count": null,
   "id": "bc277bcc-5591-4b99-a769-3ec07b97d8e9",
   "metadata": {},
   "outputs": [],
   "source": []
  }
 ],
 "metadata": {
  "kernelspec": {
   "display_name": "Python [conda env:base] *",
   "language": "python",
   "name": "conda-base-py"
  },
  "language_info": {
   "codemirror_mode": {
    "name": "ipython",
    "version": 3
   },
   "file_extension": ".py",
   "mimetype": "text/x-python",
   "name": "python",
   "nbconvert_exporter": "python",
   "pygments_lexer": "ipython3",
   "version": "3.12.7"
  }
 },
 "nbformat": 4,
 "nbformat_minor": 5
}
